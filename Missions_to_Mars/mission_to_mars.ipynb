{
 "cells": [
  {
   "cell_type": "code",
   "execution_count": null,
   "id": "d37feac3",
   "metadata": {},
   "outputs": [],
   "source": [
    "from bs4 import BeautifulSoup\n",
    "import requests\n",
    "from splinter import Browser\n",
    "from webdriver_manager.chrome import ChromeDriverManager\n",
    "import pymongo\n",
    "import pandas as pd"
   ]
  },
  {
   "cell_type": "code",
   "execution_count": null,
   "id": "14e3fc47",
   "metadata": {},
   "outputs": [],
   "source": [
    "# #Set MongoDB connection\n",
    "# conn = 'mongodb://localhost:27017'\n",
    "# client = pymongo.MongoClient(conn)\n",
    "# db = client.MarsNews_DB\n",
    "# collection = db.news"
   ]
  },
  {
   "cell_type": "code",
   "execution_count": 5,
   "id": "d3a51896",
   "metadata": {},
   "outputs": [
    {
     "name": "stdout",
     "output_type": "stream",
     "text": [
      "{'title': \"NASA's Curiosity Keeps Rolling As Team Operates Rover From Home\", 'preview': 'The team has learned to meet new challenges as they work remotely on the Mars mission.'}\n"
     ]
    }
   ],
   "source": [
    "#Latest News Scrape\n",
    "executable_path = {'executable_path': ChromeDriverManager().install()}\n",
    "browser = Browser('chrome', **executable_path, headless=False)\n",
    "url = \"https://redplanetscience.com/\"\n",
    "browser.visit(url)\n",
    "news = []\n",
    "html = browser.html\n",
    "soup = BeautifulSoup(html,'html.parser')\n",
    "articles = soup.find_all('div',class_='list_text')\n",
    "for article in articles:\n",
    "    news_dict={}\n",
    "    title = article.find('div',class_='content_title').text\n",
    "    preview = article.find('div',class_='article_teaser_body').text\n",
    "    news_dict = {'title':title,\n",
    "                'preview':preview}\n",
    "    news.append(news_dict)\n",
    "#     collection.insert_one(news_dict)\n",
    "browser.quit()\n",
    "print(news_dict)"
   ]
  },
  {
   "cell_type": "code",
   "execution_count": 4,
   "id": "d2123dbf",
   "metadata": {},
   "outputs": [
    {
     "name": "stdout",
     "output_type": "stream",
     "text": [
      "https://spaceimages-mars.com/image/featured/mars1.jpg\n"
     ]
    }
   ],
   "source": [
    "#JPL Featured Image Scrape\n",
    "executable_path = {'executable_path': ChromeDriverManager().install()}\n",
    "browser = Browser('chrome', **executable_path, headless=False)\n",
    "jpl_url = 'https://spaceimages-mars.com/'\n",
    "browser.visit(jpl_url)\n",
    "html = browser.html\n",
    "soup = BeautifulSoup(html,'html.parser')\n",
    "featured_image_url = jpl_url + soup.find('img',class_='headerimage fade-in')['src']\n",
    "browser.quit()\n",
    "print(featured_image_url)"
   ]
  },
  {
   "cell_type": "code",
   "execution_count": 6,
   "id": "dd31cf0d",
   "metadata": {},
   "outputs": [
    {
     "data": {
      "text/plain": [
       "'<table border=\"1\" class=\"dataframe\">  <thead>    <tr style=\"text-align: right;\">      <th></th>      <th>Mars</th>      <th>Earth</th>    </tr>    <tr>      <th>Mars - Earth Comparison</th>      <th></th>      <th></th>    </tr>  </thead>  <tbody>    <tr>      <th>Diameter:</th>      <td>6,779 km</td>      <td>12,742 km</td>    </tr>    <tr>      <th>Mass:</th>      <td>6.39 × 10^23 kg</td>      <td>5.97 × 10^24 kg</td>    </tr>    <tr>      <th>Moons:</th>      <td>2</td>      <td>1</td>    </tr>    <tr>      <th>Distance from Sun:</th>      <td>227,943,824 km</td>      <td>149,598,262 km</td>    </tr>    <tr>      <th>Length of Year:</th>      <td>687 Earth days</td>      <td>365.24 days</td>    </tr>    <tr>      <th>Temperature:</th>      <td>-87 to -5 °C</td>      <td>-88 to 58°C</td>    </tr>  </tbody></table>'"
      ]
     },
     "execution_count": 6,
     "metadata": {},
     "output_type": "execute_result"
    }
   ],
   "source": [
    "#Mars Facts Scrape\n",
    "fact_url = 'https://galaxyfacts-mars.com/'\n",
    "tables = pd.read_html(fact_url)\n",
    "df= tables[0]\n",
    "df.columns = df.iloc[0]\n",
    "df=df[1:]\n",
    "df=df.set_index('Mars - Earth Comparison')\n",
    "html_table = df.to_html()\n",
    "html_table = html_table.replace('\\n', '')\n",
    "html_table"
   ]
  },
  {
   "cell_type": "code",
   "execution_count": 8,
   "id": "f1e03fed",
   "metadata": {},
   "outputs": [
    {
     "name": "stdout",
     "output_type": "stream",
     "text": [
      "Cerberus Hemisphere Enhanced\n",
      "https://marshemispheres.com/images/f5e372a36edfa389625da6d0cc25d905_cerberus_enhanced.tif_full.jpg\n",
      "Schiaparelli Hemisphere Enhanced\n",
      "https://marshemispheres.com/images/3778f7b43bbbc89d6e3cfabb3613ba93_schiaparelli_enhanced.tif_full.jpg\n",
      "Syrtis Major Hemisphere Enhanced\n",
      "https://marshemispheres.com/images/555e6403a6ddd7ba16ddb0e471cadcf7_syrtis_major_enhanced.tif_full.jpg\n",
      "Valles Marineris Hemisphere Enhanced\n",
      "https://marshemispheres.com/images/b3c7c6c9138f57b4756be9b9c43e3a48_valles_marineris_enhanced.tif_full.jpg\n"
     ]
    }
   ],
   "source": [
    "#Mars Hemispheres\n",
    "executable_path = {'executable_path': ChromeDriverManager().install()}\n",
    "browser = Browser('chrome', **executable_path, headless=False)\n",
    "hemisphere_url = 'https://marshemispheres.com/'\n",
    "browser.visit(hemisphere_url)\n",
    "html = browser.html\n",
    "soup = BeautifulSoup(html,'html.parser')\n",
    "images = soup.find_all('div',class_='item')\n",
    "hemisphere_img = []\n",
    "for image in images:\n",
    "    grab_url = hemisphere_url + image.find('a')['href']\n",
    "    browser.visit(grab_url)\n",
    "    html = browser.html\n",
    "    soup = BeautifulSoup(html,'html.parser')\n",
    "    img_url = hemisphere_url + soup.find('img',class_='wide-image')['src']\n",
    "    name = soup.find('h2',class_='title').text\n",
    "    hemisphere_dict={'name':name,\n",
    "                    'img_url':img_url}\n",
    "    hemisphere_img.append(hemisphere_dict)\n",
    "browser.quit()\n",
    "mars_data={}\n",
    "mars_data[\"hemisphere\"]=hemisphere_img\n",
    "for hemis in mars_data['hemisphere']:\n",
    "    print(hemis['name'])\n",
    "    print(hemis['img_url'])"
   ]
  },
  {
   "cell_type": "code",
   "execution_count": null,
   "id": "e6ae115a",
   "metadata": {},
   "outputs": [],
   "source": []
  }
 ],
 "metadata": {
  "kernelspec": {
   "display_name": "Python 3 (ipykernel)",
   "language": "python",
   "name": "python3"
  },
  "language_info": {
   "codemirror_mode": {
    "name": "ipython",
    "version": 3
   },
   "file_extension": ".py",
   "mimetype": "text/x-python",
   "name": "python",
   "nbconvert_exporter": "python",
   "pygments_lexer": "ipython3",
   "version": "3.9.12"
  }
 },
 "nbformat": 4,
 "nbformat_minor": 5
}
